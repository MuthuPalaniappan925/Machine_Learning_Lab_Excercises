{
 "cells": [
  {
   "cell_type": "markdown",
   "id": "3fc96164",
   "metadata": {},
   "source": [
    "# Importing Packages"
   ]
  },
  {
   "cell_type": "code",
   "execution_count": 109,
   "id": "3f10872b",
   "metadata": {},
   "outputs": [],
   "source": [
    "import numpy as np\n",
    "import pandas as pd\n",
    "import seaborn as sns\n",
    "import matplotlib.pyplot as plt\n",
    "\n",
    "from sklearn.model_selection import train_test_split\n",
    "from sklearn.preprocessing import StandardScaler\n",
    "from sklearn.ensemble import RandomForestClassifier\n",
    "from sklearn.metrics import *\n",
    "from sklearn.model_selection import GridSearchCV\n",
    "from sklearn.ensemble import BaggingClassifier\n",
    "\n",
    "from sklearn.linear_model import LogisticRegression\n",
    "from sklearn.naive_bayes import GaussianNB,MultinomialNB\n",
    "from sklearn.tree import DecisionTreeClassifier\n",
    "from sklearn.neighbors import KNeighborsClassifier\n",
    "from sklearn.svm import SVC"
   ]
  },
  {
   "cell_type": "markdown",
   "id": "b27f2f28",
   "metadata": {},
   "source": [
    "# Loading Data"
   ]
  },
  {
   "cell_type": "code",
   "execution_count": 110,
   "id": "b9e6085e",
   "metadata": {},
   "outputs": [
    {
     "data": {
      "text/html": [
       "<div>\n",
       "<style scoped>\n",
       "    .dataframe tbody tr th:only-of-type {\n",
       "        vertical-align: middle;\n",
       "    }\n",
       "\n",
       "    .dataframe tbody tr th {\n",
       "        vertical-align: top;\n",
       "    }\n",
       "\n",
       "    .dataframe thead th {\n",
       "        text-align: right;\n",
       "    }\n",
       "</style>\n",
       "<table border=\"1\" class=\"dataframe\">\n",
       "  <thead>\n",
       "    <tr style=\"text-align: right;\">\n",
       "      <th></th>\n",
       "      <th>Age</th>\n",
       "      <th>EstimatedSalary</th>\n",
       "      <th>Purchased</th>\n",
       "    </tr>\n",
       "  </thead>\n",
       "  <tbody>\n",
       "    <tr>\n",
       "      <th>0</th>\n",
       "      <td>19</td>\n",
       "      <td>19000</td>\n",
       "      <td>0</td>\n",
       "    </tr>\n",
       "    <tr>\n",
       "      <th>1</th>\n",
       "      <td>35</td>\n",
       "      <td>20000</td>\n",
       "      <td>0</td>\n",
       "    </tr>\n",
       "    <tr>\n",
       "      <th>2</th>\n",
       "      <td>26</td>\n",
       "      <td>43000</td>\n",
       "      <td>0</td>\n",
       "    </tr>\n",
       "    <tr>\n",
       "      <th>3</th>\n",
       "      <td>27</td>\n",
       "      <td>57000</td>\n",
       "      <td>0</td>\n",
       "    </tr>\n",
       "    <tr>\n",
       "      <th>4</th>\n",
       "      <td>19</td>\n",
       "      <td>76000</td>\n",
       "      <td>0</td>\n",
       "    </tr>\n",
       "  </tbody>\n",
       "</table>\n",
       "</div>"
      ],
      "text/plain": [
       "   Age  EstimatedSalary  Purchased\n",
       "0   19            19000          0\n",
       "1   35            20000          0\n",
       "2   26            43000          0\n",
       "3   27            57000          0\n",
       "4   19            76000          0"
      ]
     },
     "execution_count": 110,
     "metadata": {},
     "output_type": "execute_result"
    }
   ],
   "source": [
    "data = pd.read_csv(\"Datasets/classification.csv\")\n",
    "data.head()"
   ]
  },
  {
   "cell_type": "code",
   "execution_count": 111,
   "id": "4d455b6a",
   "metadata": {},
   "outputs": [
    {
     "name": "stdout",
     "output_type": "stream",
     "text": [
      "Records:400\n",
      "Features:3\n"
     ]
    }
   ],
   "source": [
    "print(f'Records:{data.shape[0]}\\nFeatures:{data.shape[1]}')"
   ]
  },
  {
   "cell_type": "code",
   "execution_count": 112,
   "id": "57d81af4",
   "metadata": {},
   "outputs": [
    {
     "name": "stdout",
     "output_type": "stream",
     "text": [
      "<class 'pandas.core.frame.DataFrame'>\n",
      "RangeIndex: 400 entries, 0 to 399\n",
      "Data columns (total 3 columns):\n",
      " #   Column           Non-Null Count  Dtype\n",
      "---  ------           --------------  -----\n",
      " 0   Age              400 non-null    int64\n",
      " 1   EstimatedSalary  400 non-null    int64\n",
      " 2   Purchased        400 non-null    int64\n",
      "dtypes: int64(3)\n",
      "memory usage: 9.5 KB\n"
     ]
    }
   ],
   "source": [
    "#getting info about the dataset\n",
    "data.info()"
   ]
  },
  {
   "cell_type": "markdown",
   "id": "5f386f96",
   "metadata": {},
   "source": [
    "### Feature Spliting"
   ]
  },
  {
   "cell_type": "code",
   "execution_count": 113,
   "id": "7c1b07f5",
   "metadata": {},
   "outputs": [],
   "source": [
    "#spliting of target variables\n",
    "x = data.iloc[:,:-1].values\n",
    "y = data.iloc[:,-1].values"
   ]
  },
  {
   "cell_type": "markdown",
   "id": "b29141b8",
   "metadata": {},
   "source": [
    "### Train Test Split"
   ]
  },
  {
   "cell_type": "code",
   "execution_count": 114,
   "id": "465525a7",
   "metadata": {},
   "outputs": [],
   "source": [
    "x_train,x_test,y_train,y_test = train_test_split(x,y,test_size=0.25,random_state=123)"
   ]
  },
  {
   "cell_type": "code",
   "execution_count": 115,
   "id": "8d2ba442",
   "metadata": {},
   "outputs": [
    {
     "name": "stdout",
     "output_type": "stream",
     "text": [
      "Training Set Records : 300\n",
      "Testing Set Records : 100\n"
     ]
    }
   ],
   "source": [
    "print(f\"Training Set Records : {x_train.shape[0]}\\nTesting Set Records : {x_test.shape[0]}\")"
   ]
  },
  {
   "cell_type": "markdown",
   "id": "912a9928",
   "metadata": {},
   "source": [
    "### Data Preprocessing"
   ]
  },
  {
   "cell_type": "code",
   "execution_count": 116,
   "id": "3e7e9015",
   "metadata": {},
   "outputs": [],
   "source": [
    "sc = StandardScaler()\n",
    "x_train = sc.fit_transform(x_train)\n",
    "x_test = sc.fit_transform(x_test)"
   ]
  },
  {
   "cell_type": "markdown",
   "id": "01a4a2d9",
   "metadata": {},
   "source": [
    "# Bagging Classifier"
   ]
  },
  {
   "cell_type": "code",
   "execution_count": 117,
   "id": "14317074",
   "metadata": {},
   "outputs": [],
   "source": [
    "#defining a class for bagging classifier"
   ]
  },
  {
   "cell_type": "code",
   "execution_count": 118,
   "id": "d992f531",
   "metadata": {},
   "outputs": [],
   "source": [
    "class Bagging_Classifier:\n",
    "    #constructor\n",
    "    def __init__(self,base_estimator, n_estimators=10, max_samples=1.0,\n",
    "                 max_features=1.0, bootstrap=True, bootstrap_features=False,\n",
    "                 n_jobs=None, random_state=None, verbose=0):\n",
    "        \n",
    "        #defining Variables\n",
    "        self.base_estimator = base_estimator\n",
    "        self.n_estimators = n_estimators\n",
    "        self.max_samples = max_samples\n",
    "        self.max_features = max_features\n",
    "        self.bootstrap = bootstrap\n",
    "        self.bootstrap_features = bootstrap_features\n",
    "        self.n_jobs = n_jobs\n",
    "        self.random_state = random_state\n",
    "        self.verbose = verbose\n",
    "        \n",
    "        #creating bagging classifer\n",
    "        self.bagging_clf = BaggingClassifier(base_estimator=self.base_estimator,n_estimators=self.n_estimators,max_samples=self.max_samples,\n",
    "                                             max_features=self.max_features,\n",
    "                                             bootstrap=self.bootstrap,\n",
    "                                             bootstrap_features=self.bootstrap_features,\n",
    "                                             n_jobs=self.n_jobs,\n",
    "                                             random_state=self.random_state,\n",
    "                                             verbose=self.verbose)\n",
    "        \n",
    "        #fiting into classifier\n",
    "    def fit(self,x_train,y_train):\n",
    "        self.bagging_clf.fit(x_train,y_train)\n",
    "        \n",
    "        #making predictions\n",
    "    def predict(self,x_test):\n",
    "        return self.bagging_clf.predict(x_test)\n",
    "        \n",
    "        #getting scores\n",
    "    def score(self,x_test,y_test):\n",
    "        return self.bagging_clf.score(x_test,y_test)\n",
    "        \n",
    "        #hyperparameter turning to find the best parameters\n",
    "    def tune_hyper_params(self,x_train,y_train,param_grid):\n",
    "        self.grid_search = GridSearchCV(self.bagging_clf,param_grid,cv=10)\n",
    "        self.grid_search.fit(x_train,y_train)\n",
    "        print(f\"Best Parameters : {self.grid_search.best_params_}\")\n",
    "        print(f\"Best Accuracy Score : {self.grid_search.best_score_}\")"
   ]
  },
  {
   "cell_type": "markdown",
   "id": "d5981f8a",
   "metadata": {},
   "source": [
    "### Logistic Regression"
   ]
  },
  {
   "cell_type": "markdown",
   "id": "d92780fa",
   "metadata": {},
   "source": [
    "##### Using the following class for logistic regression"
   ]
  },
  {
   "cell_type": "code",
   "execution_count": 119,
   "id": "b3e886e1",
   "metadata": {},
   "outputs": [],
   "source": [
    "#creating an instance of Logistic Regression\n",
    "LR = LogisticRegression()"
   ]
  },
  {
   "cell_type": "code",
   "execution_count": 120,
   "id": "4db0be24",
   "metadata": {},
   "outputs": [],
   "source": [
    "#creating an instance of BaggingClassifier\n",
    "bagging_clf = Bagging_Classifier(base_estimator=LR, n_estimators=50, max_samples=0.5)"
   ]
  },
  {
   "cell_type": "code",
   "execution_count": 121,
   "id": "0cf0b782",
   "metadata": {},
   "outputs": [],
   "source": [
    "# Fit the classifier on the training data\n",
    "bagging_clf.fit(x_train,y_train)"
   ]
  },
  {
   "cell_type": "code",
   "execution_count": 122,
   "id": "84d23933",
   "metadata": {},
   "outputs": [],
   "source": [
    "# Predicting Values for the test data\n",
    "y_pred = bagging_clf.predict(x_test)"
   ]
  },
  {
   "cell_type": "code",
   "execution_count": 123,
   "id": "ef838120",
   "metadata": {},
   "outputs": [
    {
     "data": {
      "text/plain": [
       "0.84"
      ]
     },
     "execution_count": 123,
     "metadata": {},
     "output_type": "execute_result"
    }
   ],
   "source": [
    "# Accuracy Score before params tune\n",
    "bagging_clf.score(x_test,y_test)"
   ]
  },
  {
   "cell_type": "code",
   "execution_count": 124,
   "id": "b00c7bae",
   "metadata": {},
   "outputs": [
    {
     "name": "stdout",
     "output_type": "stream",
     "text": [
      "              precision    recall  f1-score   support\n",
      "\n",
      "           0       0.82      0.95      0.88        63\n",
      "           1       0.89      0.65      0.75        37\n",
      "\n",
      "    accuracy                           0.84       100\n",
      "   macro avg       0.86      0.80      0.82       100\n",
      "weighted avg       0.85      0.84      0.83       100\n",
      "\n"
     ]
    }
   ],
   "source": [
    "# Getting Classification Report\n",
    "print(classification_report(y_test,y_pred))"
   ]
  },
  {
   "cell_type": "markdown",
   "id": "52514287",
   "metadata": {},
   "source": [
    "### Tunning Parameters"
   ]
  },
  {
   "cell_type": "code",
   "execution_count": 125,
   "id": "4df372ca",
   "metadata": {},
   "outputs": [
    {
     "name": "stdout",
     "output_type": "stream",
     "text": [
      "Best Parameters : {'base_estimator__C': 1, 'n_estimators': 100}\n",
      "Best Accuracy Score : 0.85\n"
     ]
    }
   ],
   "source": [
    "param_grid = {'base_estimator__C': [0.1, 1, 10], 'n_estimators': [50, 100, 200]}\n",
    "bagging_clf.tune_hyper_params(x_train, y_train,param_grid)"
   ]
  },
  {
   "cell_type": "markdown",
   "id": "5af47cba",
   "metadata": {},
   "source": [
    " "
   ]
  },
  {
   "cell_type": "markdown",
   "id": "24b044ed",
   "metadata": {},
   "source": [
    "### Naive Bayes"
   ]
  },
  {
   "cell_type": "markdown",
   "id": "01de5f54",
   "metadata": {},
   "source": [
    "##### Using the following class for  Naive Bayes"
   ]
  },
  {
   "cell_type": "code",
   "execution_count": 126,
   "id": "6620ef3b",
   "metadata": {},
   "outputs": [],
   "source": [
    "#creating an instance of Naive Bayes\n",
    "GB = GaussianNB()"
   ]
  },
  {
   "cell_type": "code",
   "execution_count": 127,
   "id": "7308c0db",
   "metadata": {},
   "outputs": [],
   "source": [
    "#creating an instance of BaggingClassifier\n",
    "bagging_clf = Bagging_Classifier(base_estimator=GB, n_estimators=50, max_samples=0.5)"
   ]
  },
  {
   "cell_type": "code",
   "execution_count": 128,
   "id": "e54c6670",
   "metadata": {},
   "outputs": [],
   "source": [
    "# Fit the classifier on the training data\n",
    "bagging_clf.fit(x_train,y_train)"
   ]
  },
  {
   "cell_type": "code",
   "execution_count": 129,
   "id": "ee19425f",
   "metadata": {},
   "outputs": [],
   "source": [
    "# Predicting Values for the test data\n",
    "y_pred = bagging_clf.predict(x_test)"
   ]
  },
  {
   "cell_type": "code",
   "execution_count": 130,
   "id": "5f164e96",
   "metadata": {},
   "outputs": [
    {
     "data": {
      "text/plain": [
       "0.9"
      ]
     },
     "execution_count": 130,
     "metadata": {},
     "output_type": "execute_result"
    }
   ],
   "source": [
    "# Accuracy Score before params tune\n",
    "bagging_clf.score(x_test,y_test)"
   ]
  },
  {
   "cell_type": "code",
   "execution_count": 131,
   "id": "ade3fcb1",
   "metadata": {},
   "outputs": [
    {
     "name": "stdout",
     "output_type": "stream",
     "text": [
      "              precision    recall  f1-score   support\n",
      "\n",
      "           0       0.88      0.97      0.92        63\n",
      "           1       0.94      0.78      0.85        37\n",
      "\n",
      "    accuracy                           0.90       100\n",
      "   macro avg       0.91      0.88      0.89       100\n",
      "weighted avg       0.90      0.90      0.90       100\n",
      "\n"
     ]
    }
   ],
   "source": [
    "# Getting Classification Report\n",
    "print(classification_report(y_test,y_pred))"
   ]
  },
  {
   "cell_type": "markdown",
   "id": "c7b5beeb",
   "metadata": {},
   "source": [
    "  "
   ]
  },
  {
   "cell_type": "markdown",
   "id": "543b77b1",
   "metadata": {},
   "source": [
    "### Decision Tree"
   ]
  },
  {
   "cell_type": "code",
   "execution_count": 132,
   "id": "1dcd9a72",
   "metadata": {},
   "outputs": [],
   "source": [
    "#creating an instance of Decision Tree\n",
    "dT = DecisionTreeClassifier(max_depth=5)"
   ]
  },
  {
   "cell_type": "code",
   "execution_count": 133,
   "id": "2d831f2d",
   "metadata": {},
   "outputs": [],
   "source": [
    "# creating an instance of BaggingClassifier\n",
    "bagging_clf = Bagging_Classifier(base_estimator=dT, n_estimators=50, max_samples=0.5)"
   ]
  },
  {
   "cell_type": "code",
   "execution_count": 134,
   "id": "f2444028",
   "metadata": {},
   "outputs": [],
   "source": [
    "# Fit the classifier on the training data\n",
    "bagging_clf.fit(x_train, y_train)"
   ]
  },
  {
   "cell_type": "code",
   "execution_count": 135,
   "id": "0294106c",
   "metadata": {},
   "outputs": [],
   "source": [
    "# Use the classifier to make predictions on the test data\n",
    "y_pred = bagging_clf.predict(x_test)"
   ]
  },
  {
   "cell_type": "code",
   "execution_count": 136,
   "id": "9a99d3a2",
   "metadata": {},
   "outputs": [
    {
     "data": {
      "text/plain": [
       "0.89"
      ]
     },
     "execution_count": 136,
     "metadata": {},
     "output_type": "execute_result"
    }
   ],
   "source": [
    "# Getting Scores\n",
    "bagging_clf.score(x_test,y_test)"
   ]
  },
  {
   "cell_type": "code",
   "execution_count": 137,
   "id": "809c024d",
   "metadata": {},
   "outputs": [
    {
     "name": "stdout",
     "output_type": "stream",
     "text": [
      "              precision    recall  f1-score   support\n",
      "\n",
      "           0       0.95      0.87      0.91        63\n",
      "           1       0.81      0.92      0.86        37\n",
      "\n",
      "    accuracy                           0.89       100\n",
      "   macro avg       0.88      0.90      0.88       100\n",
      "weighted avg       0.90      0.89      0.89       100\n",
      "\n"
     ]
    }
   ],
   "source": [
    "# Getting Classification Report\n",
    "print(classification_report(y_test,y_pred))"
   ]
  },
  {
   "cell_type": "markdown",
   "id": "df3a399d",
   "metadata": {},
   "source": [
    "### Tunning Parameters"
   ]
  },
  {
   "cell_type": "code",
   "execution_count": 138,
   "id": "3813675b",
   "metadata": {},
   "outputs": [
    {
     "name": "stdout",
     "output_type": "stream",
     "text": [
      "Best Parameters : {'base_estimator__max_depth': 3, 'n_estimators': 50}\n",
      "Best Accuracy Score : 0.9266666666666667\n"
     ]
    }
   ],
   "source": [
    "param_grid = {'base_estimator__max_depth': [3, 5, 7, 9], 'n_estimators': [50, 100, 200]}\n",
    "bagging_clf.tune_hyper_params(x_train, y_train,param_grid)"
   ]
  },
  {
   "cell_type": "markdown",
   "id": "ae050a40",
   "metadata": {},
   "source": [
    "   "
   ]
  },
  {
   "cell_type": "markdown",
   "id": "daeeeb36",
   "metadata": {},
   "source": [
    "### K-NN "
   ]
  },
  {
   "cell_type": "code",
   "execution_count": 139,
   "id": "d8e1f5e0",
   "metadata": {},
   "outputs": [],
   "source": [
    "# Create an instance of the KNeighborsClassifier with 3 neighbors\n",
    "knn = KNeighborsClassifier(n_neighbors=3)"
   ]
  },
  {
   "cell_type": "code",
   "execution_count": 140,
   "id": "a66bf0e6",
   "metadata": {},
   "outputs": [],
   "source": [
    "# Create an instance of the BaggingClassifierWithTuning class, using the KNN estimator\n",
    "bagging_clf = Bagging_Classifier(base_estimator=knn, n_estimators=50, max_samples=0.5)"
   ]
  },
  {
   "cell_type": "code",
   "execution_count": 141,
   "id": "9dc133bf",
   "metadata": {},
   "outputs": [],
   "source": [
    "# Fit the classifier on the training data\n",
    "bagging_clf.fit(x_train, y_train)"
   ]
  },
  {
   "cell_type": "code",
   "execution_count": 142,
   "id": "da9c4e6d",
   "metadata": {},
   "outputs": [],
   "source": [
    "# Use the classifier to make predictions on the test data\n",
    "y_pred = bagging_clf.predict(x_test)"
   ]
  },
  {
   "cell_type": "code",
   "execution_count": 143,
   "id": "71419798",
   "metadata": {},
   "outputs": [
    {
     "data": {
      "text/plain": [
       "0.89"
      ]
     },
     "execution_count": 143,
     "metadata": {},
     "output_type": "execute_result"
    }
   ],
   "source": [
    "bagging_clf.score(x_test,y_test)"
   ]
  },
  {
   "cell_type": "code",
   "execution_count": 144,
   "id": "f2dc6d22",
   "metadata": {},
   "outputs": [
    {
     "name": "stdout",
     "output_type": "stream",
     "text": [
      "              precision    recall  f1-score   support\n",
      "\n",
      "           0       0.95      0.87      0.91        63\n",
      "           1       0.81      0.92      0.86        37\n",
      "\n",
      "    accuracy                           0.89       100\n",
      "   macro avg       0.88      0.90      0.88       100\n",
      "weighted avg       0.90      0.89      0.89       100\n",
      "\n"
     ]
    }
   ],
   "source": [
    "# Getting Classification Report\n",
    "print(classification_report(y_test,y_pred))"
   ]
  },
  {
   "cell_type": "markdown",
   "id": "25ca4e02",
   "metadata": {},
   "source": [
    "### Tunning Parameters"
   ]
  },
  {
   "cell_type": "code",
   "execution_count": 145,
   "id": "caf5c60b",
   "metadata": {},
   "outputs": [
    {
     "name": "stdout",
     "output_type": "stream",
     "text": [
      "Best Parameters : {'base_estimator__n_neighbors': 5, 'n_estimators': 100}\n",
      "Best Accuracy Score : 0.9200000000000002\n"
     ]
    }
   ],
   "source": [
    "param_grid = {'base_estimator__n_neighbors': [3, 5, 7, 9, 15], 'n_estimators': [50, 100, 200]}\n",
    "bagging_clf.tune_hyper_params(x_train, y_train,param_grid)"
   ]
  },
  {
   "cell_type": "markdown",
   "id": "ea7dbb09",
   "metadata": {},
   "source": [
    "   "
   ]
  },
  {
   "cell_type": "markdown",
   "id": "edb0a035",
   "metadata": {},
   "source": [
    "### SVC"
   ]
  },
  {
   "cell_type": "code",
   "execution_count": 146,
   "id": "db90152e",
   "metadata": {},
   "outputs": [],
   "source": [
    "class BaggingSVC:\n",
    "    def __init__(self, n_estimators=10, max_samples=1.0, max_features=1.0,\n",
    "                 bootstrap=True, bootstrap_features=False, oob_score=False,\n",
    "                 warm_start=False, n_jobs=None, random_state=None, verbose=0):\n",
    "        \n",
    "        self.n_estimators = n_estimators\n",
    "        self.max_samples = max_samples\n",
    "        self.max_features = max_features\n",
    "        self.bootstrap = bootstrap\n",
    "        self.bootstrap_features = bootstrap_features\n",
    "        self.oob_score = oob_score\n",
    "        self.warm_start = warm_start\n",
    "        self.n_jobs = n_jobs\n",
    "        self.random_state = random_state\n",
    "        self.verbose = verbose\n",
    "        self.svc = SVC()\n",
    "        self.bagging = BaggingClassifier(self.svc)\n",
    "        \n",
    "    def fit(self, x, y):\n",
    "        self.bagging.set_params(n_estimators=self.n_estimators, \n",
    "                                max_samples=self.max_samples,\n",
    "                                max_features=self.max_features, \n",
    "                                bootstrap=self.bootstrap, \n",
    "                                bootstrap_features=self.bootstrap_features, \n",
    "                                oob_score=self.oob_score, \n",
    "                                warm_start=self.warm_start, \n",
    "                                n_jobs=self.n_jobs, \n",
    "                                random_state=self.random_state, \n",
    "                                verbose=self.verbose)\n",
    "        self.bagging.fit(x, y)\n",
    "        return self\n",
    "    \n",
    "    def predict(self, x):\n",
    "        return self.bagging.predict(x)\n",
    "    \n",
    "    def score(self, x, y):\n",
    "        return self.bagging.score(x, y)\n",
    "    \n",
    "    def hyperparameter_tune(self, x, y, param_grid, cv=5):\n",
    "        self.bagging.set_params(base_estimator=self.svc)\n",
    "        self.grid = GridSearchCV(estimator=self.bagging, param_grid=param_grid, cv=cv)\n",
    "        self.grid.fit(x, y)\n",
    "        self.bagging.set_params(**self.grid.best_params_)\n",
    "        print(\"Best parameters: \", self.grid.best_params_)\n",
    "        print(\"Best Score: \",self.grid.best_score_)"
   ]
  },
  {
   "cell_type": "code",
   "execution_count": 147,
   "id": "3fc0fa8e",
   "metadata": {},
   "outputs": [
    {
     "name": "stdout",
     "output_type": "stream",
     "text": [
      "Accuracy:  0.89\n"
     ]
    }
   ],
   "source": [
    "# Create an object of the BaggingSVC class\n",
    "bagging_svc = BaggingSVC()\n",
    "\n",
    "# Fit the classifier on the training data\n",
    "bagging_svc.fit(x_train, y_train)\n",
    "\n",
    "# Make predictions on the test data\n",
    "y_pred = bagging_svc.predict(x_test)\n",
    "\n",
    "# Print the accuracy score\n",
    "print(\"Accuracy: \", bagging_svc.score(x_test, y_test))"
   ]
  },
  {
   "cell_type": "code",
   "execution_count": 148,
   "id": "39f69582",
   "metadata": {},
   "outputs": [
    {
     "name": "stdout",
     "output_type": "stream",
     "text": [
      "Best parameters:  {'base_estimator__C': 1, 'base_estimator__kernel': 'rbf'}\n",
      "Best Score:  0.9233333333333335\n"
     ]
    }
   ],
   "source": [
    "# Define the parameter grid for hyperparameter tuning\n",
    "param_grid = {'base_estimator__C': [0.1, 1, 10],\n",
    "              'base_estimator__kernel': ['linear', 'rbf']}\n",
    "\n",
    "# Perform hyperparameter tuning\n",
    "bagging_svc.hyperparameter_tune(x_train, y_train, param_grid)"
   ]
  },
  {
   "cell_type": "code",
   "execution_count": null,
   "id": "e08cbefd",
   "metadata": {},
   "outputs": [],
   "source": []
  }
 ],
 "metadata": {
  "kernelspec": {
   "display_name": "Python 3 (ipykernel)",
   "language": "python",
   "name": "python3"
  },
  "language_info": {
   "codemirror_mode": {
    "name": "ipython",
    "version": 3
   },
   "file_extension": ".py",
   "mimetype": "text/x-python",
   "name": "python",
   "nbconvert_exporter": "python",
   "pygments_lexer": "ipython3",
   "version": "3.9.12"
  }
 },
 "nbformat": 4,
 "nbformat_minor": 5
}
