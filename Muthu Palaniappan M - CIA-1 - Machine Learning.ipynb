{
 "cells": [
  {
   "cell_type": "markdown",
   "id": "a63541dd",
   "metadata": {},
   "source": [
    "# Muthu Palaniappan M - 21011101079 - CIA - 1 - Machine Learning"
   ]
  },
  {
   "cell_type": "markdown",
   "id": "1472d6d8",
   "metadata": {},
   "source": [
    "# Importing Packages"
   ]
  },
  {
   "cell_type": "code",
   "execution_count": 1,
   "id": "6e68ad76",
   "metadata": {},
   "outputs": [],
   "source": [
    "import numpy as np\n",
    "import pandas as pd\n",
    "import matplotlib.pyplot as plt\n",
    "import seaborn as sns\n",
    "sns.set_theme(style=\"darkgrid\")\n",
    "from imblearn.under_sampling import NearMiss\n",
    "from collections import Counter\n",
    "from sklearn.decomposition import PCA\n",
    "from sklearn.preprocessing import StandardScaler\n",
    "from sklearn.model_selection import train_test_split\n",
    "from sklearn.linear_model import LogisticRegression\n",
    "from sklearn.metrics import accuracy_score,classification_report,confusion_matrix,roc_auc_score,roc_curve\n",
    "from sklearn.neighbors import KNeighborsClassifier\n",
    "from sklearn.model_selection import GridSearchCV"
   ]
  },
  {
   "cell_type": "markdown",
   "id": "043cdf12",
   "metadata": {},
   "source": [
    "# Loading Dataset"
   ]
  },
  {
   "cell_type": "code",
   "execution_count": 2,
   "id": "48edb1f3",
   "metadata": {},
   "outputs": [
    {
     "data": {
      "text/html": [
       "<div>\n",
       "<style scoped>\n",
       "    .dataframe tbody tr th:only-of-type {\n",
       "        vertical-align: middle;\n",
       "    }\n",
       "\n",
       "    .dataframe tbody tr th {\n",
       "        vertical-align: top;\n",
       "    }\n",
       "\n",
       "    .dataframe thead th {\n",
       "        text-align: right;\n",
       "    }\n",
       "</style>\n",
       "<table border=\"1\" class=\"dataframe\">\n",
       "  <thead>\n",
       "    <tr style=\"text-align: right;\">\n",
       "      <th></th>\n",
       "      <th>x1</th>\n",
       "      <th>y1</th>\n",
       "      <th>xVel1</th>\n",
       "      <th>yVel1</th>\n",
       "      <th>xA1</th>\n",
       "      <th>yA1</th>\n",
       "      <th>xS1</th>\n",
       "      <th>yS1</th>\n",
       "      <th>xC1</th>\n",
       "      <th>yC1</th>\n",
       "      <th>...</th>\n",
       "      <th>yVel200</th>\n",
       "      <th>xA200</th>\n",
       "      <th>yA200</th>\n",
       "      <th>xS200</th>\n",
       "      <th>yS200</th>\n",
       "      <th>xC200</th>\n",
       "      <th>yC200</th>\n",
       "      <th>nAC200</th>\n",
       "      <th>nS200</th>\n",
       "      <th>Swarm_Behaviour</th>\n",
       "    </tr>\n",
       "  </thead>\n",
       "  <tbody>\n",
       "    <tr>\n",
       "      <th>0</th>\n",
       "      <td>562.05</td>\n",
       "      <td>-0.62</td>\n",
       "      <td>-10.70</td>\n",
       "      <td>-4.33</td>\n",
       "      <td>0.00</td>\n",
       "      <td>0.00</td>\n",
       "      <td>0.0</td>\n",
       "      <td>0.0</td>\n",
       "      <td>0.00</td>\n",
       "      <td>0.00</td>\n",
       "      <td>...</td>\n",
       "      <td>-15.15</td>\n",
       "      <td>0.00</td>\n",
       "      <td>0.00</td>\n",
       "      <td>0.00</td>\n",
       "      <td>0.00</td>\n",
       "      <td>0.00</td>\n",
       "      <td>0.0</td>\n",
       "      <td>28</td>\n",
       "      <td>0</td>\n",
       "      <td>0.0</td>\n",
       "    </tr>\n",
       "    <tr>\n",
       "      <th>1</th>\n",
       "      <td>175.66</td>\n",
       "      <td>-57.09</td>\n",
       "      <td>2.31</td>\n",
       "      <td>-2.67</td>\n",
       "      <td>0.00</td>\n",
       "      <td>0.00</td>\n",
       "      <td>0.0</td>\n",
       "      <td>0.0</td>\n",
       "      <td>0.00</td>\n",
       "      <td>0.00</td>\n",
       "      <td>...</td>\n",
       "      <td>-3.48</td>\n",
       "      <td>0.00</td>\n",
       "      <td>0.00</td>\n",
       "      <td>0.00</td>\n",
       "      <td>0.00</td>\n",
       "      <td>0.00</td>\n",
       "      <td>0.0</td>\n",
       "      <td>4</td>\n",
       "      <td>0</td>\n",
       "      <td>0.0</td>\n",
       "    </tr>\n",
       "    <tr>\n",
       "      <th>2</th>\n",
       "      <td>200.16</td>\n",
       "      <td>-320.07</td>\n",
       "      <td>4.01</td>\n",
       "      <td>-6.37</td>\n",
       "      <td>0.00</td>\n",
       "      <td>0.00</td>\n",
       "      <td>0.0</td>\n",
       "      <td>0.0</td>\n",
       "      <td>0.18</td>\n",
       "      <td>-0.26</td>\n",
       "      <td>...</td>\n",
       "      <td>-9.38</td>\n",
       "      <td>0.00</td>\n",
       "      <td>0.00</td>\n",
       "      <td>0.00</td>\n",
       "      <td>0.00</td>\n",
       "      <td>-0.11</td>\n",
       "      <td>-0.3</td>\n",
       "      <td>15</td>\n",
       "      <td>1</td>\n",
       "      <td>0.0</td>\n",
       "    </tr>\n",
       "    <tr>\n",
       "      <th>3</th>\n",
       "      <td>316.99</td>\n",
       "      <td>-906.84</td>\n",
       "      <td>0.85</td>\n",
       "      <td>9.17</td>\n",
       "      <td>-0.17</td>\n",
       "      <td>1.03</td>\n",
       "      <td>0.0</td>\n",
       "      <td>0.0</td>\n",
       "      <td>0.00</td>\n",
       "      <td>0.00</td>\n",
       "      <td>...</td>\n",
       "      <td>10.39</td>\n",
       "      <td>-0.26</td>\n",
       "      <td>1.01</td>\n",
       "      <td>0.00</td>\n",
       "      <td>0.00</td>\n",
       "      <td>0.00</td>\n",
       "      <td>0.0</td>\n",
       "      <td>16</td>\n",
       "      <td>0</td>\n",
       "      <td>0.0</td>\n",
       "    </tr>\n",
       "    <tr>\n",
       "      <th>4</th>\n",
       "      <td>1277.68</td>\n",
       "      <td>908.54</td>\n",
       "      <td>-2.02</td>\n",
       "      <td>8.23</td>\n",
       "      <td>-1.00</td>\n",
       "      <td>1.00</td>\n",
       "      <td>0.0</td>\n",
       "      <td>0.0</td>\n",
       "      <td>0.00</td>\n",
       "      <td>0.00</td>\n",
       "      <td>...</td>\n",
       "      <td>13.91</td>\n",
       "      <td>-1.00</td>\n",
       "      <td>0.00</td>\n",
       "      <td>3.21</td>\n",
       "      <td>15.67</td>\n",
       "      <td>0.00</td>\n",
       "      <td>0.0</td>\n",
       "      <td>12</td>\n",
       "      <td>0</td>\n",
       "      <td>0.0</td>\n",
       "    </tr>\n",
       "  </tbody>\n",
       "</table>\n",
       "<p>5 rows × 2401 columns</p>\n",
       "</div>"
      ],
      "text/plain": [
       "        x1      y1  xVel1  yVel1   xA1   yA1  xS1  yS1   xC1   yC1  ...  \\\n",
       "0   562.05   -0.62 -10.70  -4.33  0.00  0.00  0.0  0.0  0.00  0.00  ...   \n",
       "1   175.66  -57.09   2.31  -2.67  0.00  0.00  0.0  0.0  0.00  0.00  ...   \n",
       "2   200.16 -320.07   4.01  -6.37  0.00  0.00  0.0  0.0  0.18 -0.26  ...   \n",
       "3   316.99 -906.84   0.85   9.17 -0.17  1.03  0.0  0.0  0.00  0.00  ...   \n",
       "4  1277.68  908.54  -2.02   8.23 -1.00  1.00  0.0  0.0  0.00  0.00  ...   \n",
       "\n",
       "   yVel200  xA200  yA200  xS200  yS200  xC200  yC200  nAC200  nS200  \\\n",
       "0   -15.15   0.00   0.00   0.00   0.00   0.00    0.0      28      0   \n",
       "1    -3.48   0.00   0.00   0.00   0.00   0.00    0.0       4      0   \n",
       "2    -9.38   0.00   0.00   0.00   0.00  -0.11   -0.3      15      1   \n",
       "3    10.39  -0.26   1.01   0.00   0.00   0.00    0.0      16      0   \n",
       "4    13.91  -1.00   0.00   3.21  15.67   0.00    0.0      12      0   \n",
       "\n",
       "   Swarm_Behaviour  \n",
       "0              0.0  \n",
       "1              0.0  \n",
       "2              0.0  \n",
       "3              0.0  \n",
       "4              0.0  \n",
       "\n",
       "[5 rows x 2401 columns]"
      ]
     },
     "execution_count": 2,
     "metadata": {},
     "output_type": "execute_result"
    }
   ],
   "source": [
    "data = pd.read_csv(\"DataSet/Swarm_Behaviour.csv\")#reading the dataset\n",
    "data.head()"
   ]
  },
  {
   "cell_type": "markdown",
   "id": "d94f5751",
   "metadata": {},
   "source": [
    "# Task"
   ]
  },
  {
   "cell_type": "markdown",
   "id": "e3bdfe84",
   "metadata": {},
   "source": [
    "- Binary Classification, classify the behaviour of the swarm.\n",
    "- Class labels are binary, which 1 refers to flocking, grouped, and aligned, and 0 refers to not flocking, not grouped, and not aligned.\n",
    "\n",
    "- Target Variable: Swarm_Behaviour\n",
    "- Data Type: High Dimensional\n",
    "- Classification Type: Binary Classificarion"
   ]
  },
  {
   "cell_type": "markdown",
   "id": "30a01b25",
   "metadata": {},
   "source": [
    "# Getting Information about the dataset"
   ]
  },
  {
   "cell_type": "code",
   "execution_count": 3,
   "id": "98b22f38",
   "metadata": {},
   "outputs": [
    {
     "name": "stdout",
     "output_type": "stream",
     "text": [
      "<class 'pandas.core.frame.DataFrame'>\n",
      "RangeIndex: 23309 entries, 0 to 23308\n",
      "Columns: 2401 entries, x1 to Swarm_Behaviour\n",
      "dtypes: float64(2001), int64(400)\n",
      "memory usage: 427.0 MB\n"
     ]
    }
   ],
   "source": [
    "#info\n",
    "data.info()"
   ]
  },
  {
   "cell_type": "code",
   "execution_count": 4,
   "id": "78026f3c",
   "metadata": {},
   "outputs": [
    {
     "name": "stdout",
     "output_type": "stream",
     "text": [
      "Records:23309\n",
      "Features:2401\n"
     ]
    }
   ],
   "source": [
    "#getting shape\n",
    "print(f\"Records:{data.shape[0]}\\nFeatures:{data.shape[1]}\")"
   ]
  },
  {
   "cell_type": "code",
   "execution_count": 5,
   "id": "6dfd602c",
   "metadata": {},
   "outputs": [
    {
     "data": {
      "text/plain": [
       "float64    2001\n",
       "int64       400\n",
       "dtype: int64"
      ]
     },
     "execution_count": 5,
     "metadata": {},
     "output_type": "execute_result"
    }
   ],
   "source": [
    "#getting the count of datatypes of the features\n",
    "data.dtypes.value_counts()"
   ]
  },
  {
   "cell_type": "markdown",
   "id": "09694cf7",
   "metadata": {},
   "source": [
    "# Machine Learning Pipeline"
   ]
  },
  {
   "cell_type": "markdown",
   "id": "63dc2c1e",
   "metadata": {},
   "source": [
    "### Checking for the missing values"
   ]
  },
  {
   "cell_type": "code",
   "execution_count": 6,
   "id": "502ba4c3",
   "metadata": {},
   "outputs": [
    {
     "data": {
      "text/plain": [
       "False    2401\n",
       "dtype: int64"
      ]
     },
     "execution_count": 6,
     "metadata": {},
     "output_type": "execute_result"
    }
   ],
   "source": [
    "#getting null values\n",
    "data.isna().any().value_counts()"
   ]
  },
  {
   "cell_type": "markdown",
   "id": "4ff806be",
   "metadata": {},
   "source": [
    "- There is no null values present in the dataset"
   ]
  },
  {
   "cell_type": "markdown",
   "id": "0b8db8e9",
   "metadata": {},
   "source": [
    "### Checking Mathematical inference"
   ]
  },
  {
   "cell_type": "code",
   "execution_count": 7,
   "id": "c5f1b179",
   "metadata": {},
   "outputs": [
    {
     "data": {
      "text/html": [
       "<div>\n",
       "<style scoped>\n",
       "    .dataframe tbody tr th:only-of-type {\n",
       "        vertical-align: middle;\n",
       "    }\n",
       "\n",
       "    .dataframe tbody tr th {\n",
       "        vertical-align: top;\n",
       "    }\n",
       "\n",
       "    .dataframe thead th {\n",
       "        text-align: right;\n",
       "    }\n",
       "</style>\n",
       "<table border=\"1\" class=\"dataframe\">\n",
       "  <thead>\n",
       "    <tr style=\"text-align: right;\">\n",
       "      <th></th>\n",
       "      <th>x1</th>\n",
       "      <th>y1</th>\n",
       "      <th>xVel1</th>\n",
       "      <th>yVel1</th>\n",
       "      <th>xA1</th>\n",
       "      <th>yA1</th>\n",
       "      <th>xS1</th>\n",
       "      <th>yS1</th>\n",
       "      <th>xC1</th>\n",
       "      <th>yC1</th>\n",
       "      <th>...</th>\n",
       "      <th>yVel200</th>\n",
       "      <th>xA200</th>\n",
       "      <th>yA200</th>\n",
       "      <th>xS200</th>\n",
       "      <th>yS200</th>\n",
       "      <th>xC200</th>\n",
       "      <th>yC200</th>\n",
       "      <th>nAC200</th>\n",
       "      <th>nS200</th>\n",
       "      <th>Swarm_Behaviour</th>\n",
       "    </tr>\n",
       "  </thead>\n",
       "  <tbody>\n",
       "    <tr>\n",
       "      <th>count</th>\n",
       "      <td>23309.000000</td>\n",
       "      <td>23309.000000</td>\n",
       "      <td>23309.000000</td>\n",
       "      <td>23309.000000</td>\n",
       "      <td>23309.000000</td>\n",
       "      <td>23309.000000</td>\n",
       "      <td>23309.000000</td>\n",
       "      <td>23309.000000</td>\n",
       "      <td>23309.000000</td>\n",
       "      <td>23309.000000</td>\n",
       "      <td>...</td>\n",
       "      <td>23309.000000</td>\n",
       "      <td>23309.000000</td>\n",
       "      <td>23309.000000</td>\n",
       "      <td>23309.000000</td>\n",
       "      <td>23309.000000</td>\n",
       "      <td>23309.000000</td>\n",
       "      <td>23309.000000</td>\n",
       "      <td>23309.000000</td>\n",
       "      <td>23309.000000</td>\n",
       "      <td>23309.000000</td>\n",
       "    </tr>\n",
       "    <tr>\n",
       "      <th>mean</th>\n",
       "      <td>104.413631</td>\n",
       "      <td>-73.481853</td>\n",
       "      <td>-0.697607</td>\n",
       "      <td>0.061480</td>\n",
       "      <td>-0.147964</td>\n",
       "      <td>0.152034</td>\n",
       "      <td>-1.055732</td>\n",
       "      <td>-0.731546</td>\n",
       "      <td>-0.034915</td>\n",
       "      <td>0.077123</td>\n",
       "      <td>...</td>\n",
       "      <td>0.086824</td>\n",
       "      <td>-0.126276</td>\n",
       "      <td>0.127497</td>\n",
       "      <td>-1.526260</td>\n",
       "      <td>-0.118891</td>\n",
       "      <td>-0.012388</td>\n",
       "      <td>0.085076</td>\n",
       "      <td>26.433995</td>\n",
       "      <td>2.130679</td>\n",
       "      <td>0.341242</td>\n",
       "    </tr>\n",
       "    <tr>\n",
       "      <th>std</th>\n",
       "      <td>843.200079</td>\n",
       "      <td>573.329374</td>\n",
       "      <td>6.427840</td>\n",
       "      <td>7.366739</td>\n",
       "      <td>0.376078</td>\n",
       "      <td>0.588582</td>\n",
       "      <td>26.388570</td>\n",
       "      <td>20.684183</td>\n",
       "      <td>0.559690</td>\n",
       "      <td>0.628478</td>\n",
       "      <td>...</td>\n",
       "      <td>7.683539</td>\n",
       "      <td>0.378830</td>\n",
       "      <td>0.570589</td>\n",
       "      <td>73.903764</td>\n",
       "      <td>7.002853</td>\n",
       "      <td>0.555143</td>\n",
       "      <td>0.614603</td>\n",
       "      <td>34.136098</td>\n",
       "      <td>7.431911</td>\n",
       "      <td>0.474136</td>\n",
       "    </tr>\n",
       "    <tr>\n",
       "      <th>min</th>\n",
       "      <td>-1414.140000</td>\n",
       "      <td>-1012.180000</td>\n",
       "      <td>-18.590000</td>\n",
       "      <td>-18.410000</td>\n",
       "      <td>-1.000000</td>\n",
       "      <td>-1.000000</td>\n",
       "      <td>-944.070000</td>\n",
       "      <td>-847.910000</td>\n",
       "      <td>-2.680000</td>\n",
       "      <td>-2.680000</td>\n",
       "      <td>...</td>\n",
       "      <td>-18.440000</td>\n",
       "      <td>-1.040000</td>\n",
       "      <td>-1.000000</td>\n",
       "      <td>-4079.230000</td>\n",
       "      <td>-370.240000</td>\n",
       "      <td>-2.680000</td>\n",
       "      <td>-2.680000</td>\n",
       "      <td>0.000000</td>\n",
       "      <td>0.000000</td>\n",
       "      <td>0.000000</td>\n",
       "    </tr>\n",
       "    <tr>\n",
       "      <th>25%</th>\n",
       "      <td>-542.020000</td>\n",
       "      <td>-611.220000</td>\n",
       "      <td>-5.360000</td>\n",
       "      <td>-5.680000</td>\n",
       "      <td>-0.230000</td>\n",
       "      <td>-0.010000</td>\n",
       "      <td>0.000000</td>\n",
       "      <td>0.000000</td>\n",
       "      <td>-0.040000</td>\n",
       "      <td>-0.020000</td>\n",
       "      <td>...</td>\n",
       "      <td>-5.600000</td>\n",
       "      <td>-0.190000</td>\n",
       "      <td>0.000000</td>\n",
       "      <td>0.000000</td>\n",
       "      <td>0.000000</td>\n",
       "      <td>-0.070000</td>\n",
       "      <td>0.000000</td>\n",
       "      <td>2.000000</td>\n",
       "      <td>0.000000</td>\n",
       "      <td>0.000000</td>\n",
       "    </tr>\n",
       "    <tr>\n",
       "      <th>50%</th>\n",
       "      <td>145.300000</td>\n",
       "      <td>-157.350000</td>\n",
       "      <td>-0.450000</td>\n",
       "      <td>-1.540000</td>\n",
       "      <td>0.000000</td>\n",
       "      <td>0.000000</td>\n",
       "      <td>0.000000</td>\n",
       "      <td>0.000000</td>\n",
       "      <td>0.000000</td>\n",
       "      <td>0.000000</td>\n",
       "      <td>...</td>\n",
       "      <td>-0.780000</td>\n",
       "      <td>0.000000</td>\n",
       "      <td>0.000000</td>\n",
       "      <td>0.000000</td>\n",
       "      <td>0.000000</td>\n",
       "      <td>0.000000</td>\n",
       "      <td>0.000000</td>\n",
       "      <td>12.000000</td>\n",
       "      <td>0.000000</td>\n",
       "      <td>0.000000</td>\n",
       "    </tr>\n",
       "    <tr>\n",
       "      <th>75%</th>\n",
       "      <td>896.200000</td>\n",
       "      <td>425.700000</td>\n",
       "      <td>3.940000</td>\n",
       "      <td>7.260000</td>\n",
       "      <td>0.000000</td>\n",
       "      <td>0.940000</td>\n",
       "      <td>0.000000</td>\n",
       "      <td>0.000000</td>\n",
       "      <td>0.000000</td>\n",
       "      <td>0.020000</td>\n",
       "      <td>...</td>\n",
       "      <td>7.480000</td>\n",
       "      <td>0.000000</td>\n",
       "      <td>0.540000</td>\n",
       "      <td>0.000000</td>\n",
       "      <td>0.000000</td>\n",
       "      <td>0.000000</td>\n",
       "      <td>0.030000</td>\n",
       "      <td>35.000000</td>\n",
       "      <td>1.000000</td>\n",
       "      <td>1.000000</td>\n",
       "    </tr>\n",
       "    <tr>\n",
       "      <th>max</th>\n",
       "      <td>1406.080000</td>\n",
       "      <td>1015.800000</td>\n",
       "      <td>18.470000</td>\n",
       "      <td>18.570000</td>\n",
       "      <td>1.000000</td>\n",
       "      <td>1.040000</td>\n",
       "      <td>68.560000</td>\n",
       "      <td>234.740000</td>\n",
       "      <td>2.680000</td>\n",
       "      <td>2.680000</td>\n",
       "      <td>...</td>\n",
       "      <td>18.490000</td>\n",
       "      <td>1.000000</td>\n",
       "      <td>1.040000</td>\n",
       "      <td>255.990000</td>\n",
       "      <td>57.840000</td>\n",
       "      <td>2.680000</td>\n",
       "      <td>2.680000</td>\n",
       "      <td>142.000000</td>\n",
       "      <td>64.000000</td>\n",
       "      <td>1.000000</td>\n",
       "    </tr>\n",
       "  </tbody>\n",
       "</table>\n",
       "<p>8 rows × 2401 columns</p>\n",
       "</div>"
      ],
      "text/plain": [
       "                 x1            y1         xVel1         yVel1           xA1  \\\n",
       "count  23309.000000  23309.000000  23309.000000  23309.000000  23309.000000   \n",
       "mean     104.413631    -73.481853     -0.697607      0.061480     -0.147964   \n",
       "std      843.200079    573.329374      6.427840      7.366739      0.376078   \n",
       "min    -1414.140000  -1012.180000    -18.590000    -18.410000     -1.000000   \n",
       "25%     -542.020000   -611.220000     -5.360000     -5.680000     -0.230000   \n",
       "50%      145.300000   -157.350000     -0.450000     -1.540000      0.000000   \n",
       "75%      896.200000    425.700000      3.940000      7.260000      0.000000   \n",
       "max     1406.080000   1015.800000     18.470000     18.570000      1.000000   \n",
       "\n",
       "                yA1           xS1           yS1           xC1           yC1  \\\n",
       "count  23309.000000  23309.000000  23309.000000  23309.000000  23309.000000   \n",
       "mean       0.152034     -1.055732     -0.731546     -0.034915      0.077123   \n",
       "std        0.588582     26.388570     20.684183      0.559690      0.628478   \n",
       "min       -1.000000   -944.070000   -847.910000     -2.680000     -2.680000   \n",
       "25%       -0.010000      0.000000      0.000000     -0.040000     -0.020000   \n",
       "50%        0.000000      0.000000      0.000000      0.000000      0.000000   \n",
       "75%        0.940000      0.000000      0.000000      0.000000      0.020000   \n",
       "max        1.040000     68.560000    234.740000      2.680000      2.680000   \n",
       "\n",
       "       ...       yVel200         xA200         yA200         xS200  \\\n",
       "count  ...  23309.000000  23309.000000  23309.000000  23309.000000   \n",
       "mean   ...      0.086824     -0.126276      0.127497     -1.526260   \n",
       "std    ...      7.683539      0.378830      0.570589     73.903764   \n",
       "min    ...    -18.440000     -1.040000     -1.000000  -4079.230000   \n",
       "25%    ...     -5.600000     -0.190000      0.000000      0.000000   \n",
       "50%    ...     -0.780000      0.000000      0.000000      0.000000   \n",
       "75%    ...      7.480000      0.000000      0.540000      0.000000   \n",
       "max    ...     18.490000      1.000000      1.040000    255.990000   \n",
       "\n",
       "              yS200         xC200         yC200        nAC200         nS200  \\\n",
       "count  23309.000000  23309.000000  23309.000000  23309.000000  23309.000000   \n",
       "mean      -0.118891     -0.012388      0.085076     26.433995      2.130679   \n",
       "std        7.002853      0.555143      0.614603     34.136098      7.431911   \n",
       "min     -370.240000     -2.680000     -2.680000      0.000000      0.000000   \n",
       "25%        0.000000     -0.070000      0.000000      2.000000      0.000000   \n",
       "50%        0.000000      0.000000      0.000000     12.000000      0.000000   \n",
       "75%        0.000000      0.000000      0.030000     35.000000      1.000000   \n",
       "max       57.840000      2.680000      2.680000    142.000000     64.000000   \n",
       "\n",
       "       Swarm_Behaviour  \n",
       "count     23309.000000  \n",
       "mean          0.341242  \n",
       "std           0.474136  \n",
       "min           0.000000  \n",
       "25%           0.000000  \n",
       "50%           0.000000  \n",
       "75%           1.000000  \n",
       "max           1.000000  \n",
       "\n",
       "[8 rows x 2401 columns]"
      ]
     },
     "execution_count": 7,
     "metadata": {},
     "output_type": "execute_result"
    }
   ],
   "source": [
    "data.describe()"
   ]
  },
  {
   "cell_type": "markdown",
   "id": "e3e6379f",
   "metadata": {},
   "source": [
    "### Checking for the class Imbalance Problem"
   ]
  },
  {
   "cell_type": "code",
   "execution_count": 8,
   "id": "24a43302",
   "metadata": {},
   "outputs": [
    {
     "name": "stderr",
     "output_type": "stream",
     "text": [
      "C:\\Users\\admin\\anaconda3\\lib\\site-packages\\seaborn\\_decorators.py:36: FutureWarning: Pass the following variable as a keyword arg: x. From version 0.12, the only valid positional argument will be `data`, and passing other arguments without an explicit keyword will result in an error or misinterpretation.\n",
      "  warnings.warn(\n"
     ]
    },
    {
     "data": {
      "text/plain": [
       "<AxesSubplot:xlabel='Swarm_Behaviour', ylabel='count'>"
      ]
     },
     "execution_count": 8,
     "metadata": {},
     "output_type": "execute_result"
    },
    {
     "data": {
      "image/png": "[encoded data removed]",
      "text/plain": [
       "<Figure size 432x288 with 1 Axes>"
      ]
     },
     "metadata": {},
     "output_type": "display_data"
    }
   ],
   "source": [
    "sns.countplot(data['Swarm_Behaviour'],palette='spring')"
   ]
  },
  {
   "cell_type": "markdown",
   "id": "3ea2f089",
   "metadata": {},
   "source": [
    "- Class imbalance problem exists in the following dataset"
   ]
  },
  {
   "cell_type": "markdown",
   "id": "b2f3b9a2",
   "metadata": {},
   "source": [
    "### Resampling"
   ]
  },
  {
   "cell_type": "markdown",
   "id": "2a25b19d",
   "metadata": {},
   "source": [
    "- removing samples from the majority class (under-sampling) \n",
    "- adding more examples from the minority class (over-sampling)."
   ]
  },
  {
   "cell_type": "markdown",
   "id": "5b5dd78a",
   "metadata": {},
   "source": [
    "#### NearMiss Sampling Technique\n",
    "- NearMiss is an under-sampling technique. Instead of resampling the Minority class, using a distance, this will make the majority class equal to the minority class."
   ]
  },
  {
   "cell_type": "code",
   "execution_count": 9,
   "id": "2d03fe99",
   "metadata": {},
   "outputs": [],
   "source": [
    "x = data.drop(columns='Swarm_Behaviour',axis=1)\n",
    "y = data['Swarm_Behaviour']"
   ]
  },
  {
   "cell_type": "code",
   "execution_count": 10,
   "id": "53121cd4",
   "metadata": {},
   "outputs": [],
   "source": [
    "NM = NearMiss()\n",
    "x_nm,y_nm = NM.fit_resample(x,y)"
   ]
  },
  {
   "cell_type": "code",
   "execution_count": 11,
   "id": "5b1176c9",
   "metadata": {},
   "outputs": [
    {
     "name": "stderr",
     "output_type": "stream",
     "text": [
      "C:\\Users\\admin\\anaconda3\\lib\\site-packages\\seaborn\\_decorators.py:36: FutureWarning: Pass the following variable as a keyword arg: x. From version 0.12, the only valid positional argument will be `data`, and passing other arguments without an explicit keyword will result in an error or misinterpretation.\n",
      "  warnings.warn(\n"
     ]
    },
    {
     "data": {
      "image/png": "[encoded data removed]",
      "text/plain": [
       "<Figure size 432x288 with 1 Axes>"
      ]
     },
     "metadata": {},
     "output_type": "display_data"
    }
   ],
   "source": [
    "#distribution of Swarm_Behavioour feature varible in the re-sample dataset\n",
    "sns.countplot(y_nm);"
   ]
  },
  {
   "cell_type": "code",
   "execution_count": 12,
   "id": "8d400156",
   "metadata": {},
   "outputs": [
    {
     "name": "stdout",
     "output_type": "stream",
     "text": [
      "Orginal Shape : Counter({0.0: 15355, 1.0: 7954})\n",
      "Resample Shape : Counter({0.0: 7954, 1.0: 7954})\n"
     ]
    }
   ],
   "source": [
    "print(f\"Orginal Shape : {Counter(y)}\\nResample Shape : {Counter(y_nm)}\")"
   ]
  },
  {
   "cell_type": "markdown",
   "id": "40fbf417",
   "metadata": {},
   "source": [
    "- Class Balancing is acheived"
   ]
  },
  {
   "cell_type": "markdown",
   "id": "0e45bcc0",
   "metadata": {},
   "source": [
    "### Dimensionality Reduction Technique\n",
    "- Principal component analysis (PCA)"
   ]
  },
  {
   "cell_type": "markdown",
   "id": "1786c39f",
   "metadata": {},
   "source": [
    "##### Feature-scalling"
   ]
  },
  {
   "cell_type": "code",
   "execution_count": 13,
   "id": "0d3883ae",
   "metadata": {},
   "outputs": [],
   "source": [
    "SS = StandardScaler()\n",
    "x_nm = SS.fit_transform(x_nm)"
   ]
  },
  {
   "cell_type": "markdown",
   "id": "293aa481",
   "metadata": {},
   "source": [
    "### Records - Train test spilt"
   ]
  },
  {
   "cell_type": "code",
   "execution_count": 14,
   "id": "17322bef",
   "metadata": {},
   "outputs": [],
   "source": [
    "x_train,x_test,y_train,y_test = train_test_split(x_nm,y_nm,test_size=0.3,random_state=0)"
   ]
  },
  {
   "cell_type": "markdown",
   "id": "cea0c8e1",
   "metadata": {},
   "source": [
    "- Test Size = 70% Training and 30% Testing\n",
    "- random_state = Seed Value - 0"
   ]
  },
  {
   "cell_type": "code",
   "execution_count": 15,
   "id": "ba1c45e1",
   "metadata": {},
   "outputs": [
    {
     "name": "stdout",
     "output_type": "stream",
     "text": [
      "Training Shape : (11135, 2400)\n",
      "Testing Shape : (11135,)\n"
     ]
    }
   ],
   "source": [
    "print(f\"Training Shape : {x_train.shape}\\nTesting Shape : {y_train.shape}\")"
   ]
  },
  {
   "cell_type": "markdown",
   "id": "243b1d08",
   "metadata": {},
   "source": [
    "### Model Building"
   ]
  },
  {
   "cell_type": "markdown",
   "id": "cfb05be3",
   "metadata": {},
   "source": [
    "#### 1- Logistic Regression"
   ]
  },
  {
   "cell_type": "code",
   "execution_count": 16,
   "id": "cc6b318c",
   "metadata": {},
   "outputs": [
    {
     "name": "stderr",
     "output_type": "stream",
     "text": [
      "C:\\Users\\admin\\anaconda3\\lib\\site-packages\\sklearn\\linear_model\\_logistic.py:814: ConvergenceWarning: lbfgs failed to converge (status=1):\n",
      "STOP: TOTAL NO. of ITERATIONS REACHED LIMIT.\n",
      "\n",
      "Increase the number of iterations (max_iter) or scale the data as shown in:\n",
      "    https://scikit-learn.org/stable/modules/preprocessing.html\n",
      "Please also refer to the documentation for alternative solver options:\n",
      "    https://scikit-learn.org/stable/modules/linear_model.html#logistic-regression\n",
      "  n_iter_i = _check_optimize_result(\n"
     ]
    }
   ],
   "source": [
    "LR = LogisticRegression()\n",
    "LR.fit(x_train,y_train) #model fitting\n",
    "y_pred = LR.predict(x_test)"
   ]
  },
  {
   "cell_type": "markdown",
   "id": "e01c5587",
   "metadata": {},
   "source": [
    "##### Accuracy metrics"
   ]
  },
  {
   "cell_type": "code",
   "execution_count": 17,
   "id": "f9baad2f",
   "metadata": {},
   "outputs": [
    {
     "name": "stdout",
     "output_type": "stream",
     "text": [
      "Accuracy Score : 82.77812696417347\n"
     ]
    }
   ],
   "source": [
    "LR_acc = accuracy_score(y_pred,y_test)*100\n",
    "print(f\"Accuracy Score : {LR_acc}\")"
   ]
  },
  {
   "cell_type": "markdown",
   "id": "61549e5e",
   "metadata": {},
   "source": [
    "##### Classification Report"
   ]
  },
  {
   "cell_type": "code",
   "execution_count": 18,
   "id": "b2f58d63",
   "metadata": {},
   "outputs": [
    {
     "name": "stdout",
     "output_type": "stream",
     "text": [
      "              precision    recall  f1-score   support\n",
      "\n",
      "         0.0       0.83      0.82      0.83      2368\n",
      "         1.0       0.83      0.83      0.83      2405\n",
      "\n",
      "    accuracy                           0.83      4773\n",
      "   macro avg       0.83      0.83      0.83      4773\n",
      "weighted avg       0.83      0.83      0.83      4773\n",
      "\n"
     ]
    }
   ],
   "source": [
    "#classification report\n",
    "print(classification_report(y_pred,y_test))"
   ]
  },
  {
   "cell_type": "code",
   "execution_count": 19,
   "id": "f1ac8928",
   "metadata": {},
   "outputs": [
    {
     "data": {
      "text/plain": [
       "<AxesSubplot:>"
      ]
     },
     "execution_count": 19,
     "metadata": {},
     "output_type": "execute_result"
    },
    {
     "data": {
      "image/png": "[encoded data removed]",
      "text/plain": [
       "<Figure size 432x288 with 2 Axes>"
      ]
     },
     "metadata": {},
     "output_type": "display_data"
    }
   ],
   "source": [
    "#confusion matrix\n",
    "sns.heatmap(confusion_matrix(y_pred,y_test),annot=True,linewidths=0.2,cmap='coolwarm',linecolor='midnightblue')"
   ]
  },
  {
   "cell_type": "markdown",
   "id": "2eee86d1",
   "metadata": {},
   "source": [
    "##### AUC & ROC Curve"
   ]
  },
  {
   "cell_type": "code",
   "execution_count": 20,
   "id": "b593c0f0",
   "metadata": {},
   "outputs": [
    {
     "data": {
      "image/png": "[encoded data removed]",
      "text/plain": [
       "<Figure size 1080x504 with 1 Axes>"
      ]
     },
     "metadata": {},
     "output_type": "display_data"
    }
   ],
   "source": [
    "auc = roc_auc_score(y_test,y_pred)\n",
    "fp_rate,tp_rate,thresholds = roc_curve(y_test,y_pred)\n",
    "plt.figure(figsize=(15,7))\n",
    "plt.axis('scaled')\n",
    "plt.xlim([0, 1])\n",
    "plt.ylim([0, 1])\n",
    "plt.title(\"AUC & ROC Curve\")\n",
    "plt.plot(fp_rate, tp_rate, 'b')\n",
    "plt.fill_between(fp_rate, tp_rate, facecolor='midnightblue', alpha=0.7)\n",
    "plt.text(0.95, 0.05, 'AUC = %0.4f' % auc, ha='right', fontsize=12, weight='bold', color='black')\n",
    "plt.xlabel(\"False Positive Rate\")\n",
    "plt.ylabel(\"True Positive Rate\")\n",
    "plt.show()"
   ]
  },
  {
   "cell_type": "markdown",
   "id": "8c642a34",
   "metadata": {},
   "source": [
    "### KNN"
   ]
  },
  {
   "cell_type": "code",
   "execution_count": 21,
   "id": "2a463243",
   "metadata": {},
   "outputs": [],
   "source": [
    "def KNN_best_parameters(x_train,x_test,y_train,y_test):\n",
    "    \n",
    "    k_range = list(range(1,10)) \n",
    "    weight_options = ['uniform','distance'] \n",
    "    #manhattan_distance = 1\n",
    "    #euclidean_distance = 2\n",
    "    distance_options = [1,2] \n",
    "    print()\n",
    "    param_grid = dict(n_neighbors=k_range,weights=weight_options,p=distance_options) \n",
    "\n",
    "    knn =KNeighborsClassifier() \n",
    "    grid = GridSearchCV(knn,param_grid,cv=10,scoring='accuracy') \n",
    "    grid.fit(x_train, y_train) \n",
    "    \n",
    "    print('Best training score: {} with parametres: {}'.format(grid.best_score_,grid.best_params_))\n",
    "    print()\n",
    "    \n",
    "    knn = KNeighborsClassifier(**grid.best_params_) \n",
    "    knn.fit(x_train, y_train)\n",
    "    \n",
    "    y_predict_test = knn.predict(x_test)\n",
    "    y_predict_train = knn.predict(x_train)\n",
    "\n",
    "    cm_test = confusion_matrix(y_test,y_predict_test)\n",
    "    cm_train = confusion_matrix(y_train,y_predict_train)\n",
    "\n",
    "    acc_test = accuracy_score(y_test,y_predict_test)  \n",
    "    acc_train = accuracy_score(y_train,y_predict_train)\n",
    "\n",
    "    print('Test Score: {}, Train Score: {}'.format(acc_test,acc_train))\n",
    "    print()\n",
    "    print('CM Test:',cm_test)\n",
    "    print('CM Train:',cm_train)\n",
    "    \n",
    "    return grid"
   ]
  },
  {
   "cell_type": "code",
   "execution_count": 22,
   "id": "86b7a09d",
   "metadata": {},
   "outputs": [
    {
     "data": {
      "text/plain": [
       "array([0., 1., 1., ..., 0., 1., 0.])"
      ]
     },
     "execution_count": 22,
     "metadata": {},
     "output_type": "execute_result"
    }
   ],
   "source": [
    "KNN = KNeighborsClassifier(n_neighbors=5)\n",
    "y_pred = KNN.fit(x_train,y_train).predict(x_test)\n",
    "y_pred"
   ]
  },
  {
   "cell_type": "markdown",
   "id": "26a4359b",
   "metadata": {},
   "source": [
    "### Accuracy Metrices"
   ]
  },
  {
   "cell_type": "code",
   "execution_count": 23,
   "id": "9e474d57",
   "metadata": {},
   "outputs": [
    {
     "name": "stdout",
     "output_type": "stream",
     "text": [
      "Accuracy Score : 83.84663733500943\n"
     ]
    }
   ],
   "source": [
    "#Accuracy_Score\n",
    "KNN_acc = accuracy_score(y_pred,y_test)*100\n",
    "print(f\"Accuracy Score : {KNN_acc}\")"
   ]
  },
  {
   "cell_type": "code",
   "execution_count": 24,
   "id": "5550935b",
   "metadata": {},
   "outputs": [
    {
     "name": "stdout",
     "output_type": "stream",
     "text": [
      "              precision    recall  f1-score   support\n",
      "\n",
      "         0.0       0.84      0.83      0.84      2387\n",
      "         1.0       0.83      0.85      0.84      2386\n",
      "\n",
      "    accuracy                           0.84      4773\n",
      "   macro avg       0.84      0.84      0.84      4773\n",
      "weighted avg       0.84      0.84      0.84      4773\n",
      "\n"
     ]
    }
   ],
   "source": [
    "print(classification_report(y_pred,y_test))"
   ]
  },
  {
   "cell_type": "code",
   "execution_count": 25,
   "id": "fdeddcbe",
   "metadata": {},
   "outputs": [
    {
     "data": {
      "text/plain": [
       "<AxesSubplot:>"
      ]
     },
     "execution_count": 25,
     "metadata": {},
     "output_type": "execute_result"
    },
    {
     "data": {
      "image/png": "[encoded data removed]",
      "text/plain": [
       "<Figure size 432x288 with 2 Axes>"
      ]
     },
     "metadata": {},
     "output_type": "display_data"
    }
   ],
   "source": [
    "sns.heatmap(confusion_matrix(y_pred,y_test),annot=True,linecolor='midnightblue',linewidths=0.2,cmap='coolwarm')"
   ]
  },
  {
   "cell_type": "markdown",
   "id": "09b36ef5",
   "metadata": {},
   "source": [
    "### Decision-Tree"
   ]
  },
  {
   "cell_type": "code",
   "execution_count": 34,
   "id": "f9cad61a",
   "metadata": {},
   "outputs": [
    {
     "data": {
      "text/plain": [
       "DecisionTreeClassifier(random_state=0)"
      ]
     },
     "execution_count": 34,
     "metadata": {},
     "output_type": "execute_result"
    }
   ],
   "source": [
    "from sklearn.tree import DecisionTreeClassifier\n",
    "regressor = DecisionTreeClassifier(random_state = 0)\n",
    "regressor.fit(x_train, y_train)"
   ]
  },
  {
   "cell_type": "code",
   "execution_count": 35,
   "id": "7b0f1c46",
   "metadata": {},
   "outputs": [],
   "source": [
    "y_pred = regressor.predict(x_test)"
   ]
  },
  {
   "cell_type": "code",
   "execution_count": 36,
   "id": "9590f528",
   "metadata": {},
   "outputs": [
    {
     "data": {
      "text/plain": [
       "array([0., 1., 1., ..., 0., 1., 0.])"
      ]
     },
     "execution_count": 36,
     "metadata": {},
     "output_type": "execute_result"
    }
   ],
   "source": [
    "y_pred"
   ]
  },
  {
   "cell_type": "code",
   "execution_count": 38,
   "id": "484a7347",
   "metadata": {},
   "outputs": [
    {
     "name": "stdout",
     "output_type": "stream",
     "text": [
      "Accuracy Score : 0.8162581185837\n"
     ]
    }
   ],
   "source": [
    "print(f\"Accuracy Score : {accuracy_score(y_pred,y_test)}\")"
   ]
  },
  {
   "cell_type": "code",
   "execution_count": 42,
   "id": "07babf04",
   "metadata": {},
   "outputs": [
    {
     "data": {
      "text/plain": [
       "<AxesSubplot:>"
      ]
     },
     "execution_count": 42,
     "metadata": {},
     "output_type": "execute_result"
    },
    {
     "data": {
      "image/png": "[encoded data removed]",
      "text/plain": [
       "<Figure size 432x288 with 2 Axes>"
      ]
     },
     "metadata": {},
     "output_type": "display_data"
    }
   ],
   "source": [
    "sns.heatmap(confusion_matrix(y_pred,y_test),annot=True,linecolor='blue',linewidths=0.2)"
   ]
  },
  {
   "cell_type": "code",
   "execution_count": 43,
   "id": "59ebd8ff",
   "metadata": {},
   "outputs": [
    {
     "name": "stdout",
     "output_type": "stream",
     "text": [
      "              precision    recall  f1-score   support\n",
      "\n",
      "         0.0       0.83      0.80      0.82      2425\n",
      "         1.0       0.80      0.83      0.82      2348\n",
      "\n",
      "    accuracy                           0.82      4773\n",
      "   macro avg       0.82      0.82      0.82      4773\n",
      "weighted avg       0.82      0.82      0.82      4773\n",
      "\n"
     ]
    }
   ],
   "source": [
    "print(classification_report(y_pred,y_test))"
   ]
  }
 ],
 "metadata": {
  "kernelspec": {
   "display_name": "Python 3 (ipykernel)",
   "language": "python",
   "name": "python3"
  },
  "language_info": {
   "codemirror_mode": {
    "name": "ipython",
    "version": 3
   },
   "file_extension": ".py",
   "mimetype": "text/x-python",
   "name": "python",
   "nbconvert_exporter": "python",
   "pygments_lexer": "ipython3",
   "version": "3.9.12"
  }
 },
 "nbformat": 4,
 "nbformat_minor": 5
}
