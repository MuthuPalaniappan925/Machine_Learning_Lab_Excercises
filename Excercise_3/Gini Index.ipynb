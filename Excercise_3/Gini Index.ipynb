{
 "cells": [
  {
   "cell_type": "markdown",
   "id": "76f2a0ed",
   "metadata": {},
   "source": [
    "# MuthuPalaniappan M - 211101079 - Gini Index"
   ]
  },
  {
   "cell_type": "markdown",
   "id": "a432cd95",
   "metadata": {},
   "source": [
    "### Importing Packages"
   ]
  },
  {
   "cell_type": "code",
   "execution_count": 1,
   "id": "453f9e79",
   "metadata": {},
   "outputs": [],
   "source": [
    "import numpy as np\n",
    "import pandas as pd"
   ]
  },
  {
   "cell_type": "markdown",
   "id": "3b397568",
   "metadata": {},
   "source": [
    "### Loading the Dataset"
   ]
  },
  {
   "cell_type": "code",
   "execution_count": 2,
   "id": "edaaa0bc",
   "metadata": {},
   "outputs": [
    {
     "data": {
      "text/html": [
       "<div>\n",
       "<style scoped>\n",
       "    .dataframe tbody tr th:only-of-type {\n",
       "        vertical-align: middle;\n",
       "    }\n",
       "\n",
       "    .dataframe tbody tr th {\n",
       "        vertical-align: top;\n",
       "    }\n",
       "\n",
       "    .dataframe thead th {\n",
       "        text-align: right;\n",
       "    }\n",
       "</style>\n",
       "<table border=\"1\" class=\"dataframe\">\n",
       "  <thead>\n",
       "    <tr style=\"text-align: right;\">\n",
       "      <th></th>\n",
       "      <th>Age</th>\n",
       "      <th>EstimatedSalary</th>\n",
       "      <th>Purchased</th>\n",
       "    </tr>\n",
       "  </thead>\n",
       "  <tbody>\n",
       "    <tr>\n",
       "      <th>0</th>\n",
       "      <td>19</td>\n",
       "      <td>19000</td>\n",
       "      <td>0</td>\n",
       "    </tr>\n",
       "    <tr>\n",
       "      <th>1</th>\n",
       "      <td>35</td>\n",
       "      <td>20000</td>\n",
       "      <td>0</td>\n",
       "    </tr>\n",
       "    <tr>\n",
       "      <th>2</th>\n",
       "      <td>26</td>\n",
       "      <td>43000</td>\n",
       "      <td>0</td>\n",
       "    </tr>\n",
       "    <tr>\n",
       "      <th>3</th>\n",
       "      <td>27</td>\n",
       "      <td>57000</td>\n",
       "      <td>0</td>\n",
       "    </tr>\n",
       "    <tr>\n",
       "      <th>4</th>\n",
       "      <td>19</td>\n",
       "      <td>76000</td>\n",
       "      <td>0</td>\n",
       "    </tr>\n",
       "  </tbody>\n",
       "</table>\n",
       "</div>"
      ],
      "text/plain": [
       "   Age  EstimatedSalary  Purchased\n",
       "0   19            19000          0\n",
       "1   35            20000          0\n",
       "2   26            43000          0\n",
       "3   27            57000          0\n",
       "4   19            76000          0"
      ]
     },
     "execution_count": 2,
     "metadata": {},
     "output_type": "execute_result"
    }
   ],
   "source": [
    "data = pd.read_csv(\"DataSets/classification.csv\")\n",
    "data.head()"
   ]
  },
  {
   "cell_type": "markdown",
   "id": "a235eda1",
   "metadata": {},
   "source": [
    "### Computing Gini-Index"
   ]
  },
  {
   "cell_type": "code",
   "execution_count": 3,
   "id": "5b7c0ad2",
   "metadata": {},
   "outputs": [],
   "source": [
    "def gini_index(col):\n",
    "    col_values = data[col].value_counts()\n",
    "    gini_index = 0\n",
    "    for key in col_values.keys():\n",
    "        data1 = data['Purchased'][data[col] == key].value_counts()\n",
    "        n_key = col_values[key]\n",
    "        n = data.shape[0]\n",
    "        gini_index += (( n_key / n) * gini_impurity(data1))\n",
    "    return gini_index"
   ]
  },
  {
   "cell_type": "code",
   "execution_count": 6,
   "id": "ded86d01",
   "metadata": {},
   "outputs": [],
   "source": [
    "def gini_impurity(value_counts):\n",
    "    n = value_counts.sum()\n",
    "    p = 0\n",
    "    for key in value_counts.keys():\n",
    "        p +=  (value_counts[key] / n ) * (value_counts[key] / n )\n",
    "    gini = 1 - p\n",
    "    return gini"
   ]
  },
  {
   "cell_type": "code",
   "execution_count": 13,
   "id": "9a224752",
   "metadata": {},
   "outputs": [
    {
     "name": "stdout",
     "output_type": "stream",
     "text": [
      "Gini Index values\n",
      "Age: 0.22328\n",
      "EstimatedSalary: 0.22003\n"
     ]
    }
   ],
   "source": [
    "gini_col = {}\n",
    "features = {\"Age\", \"EstimatedSalary\"}\n",
    "print('Gini Index values')\n",
    "for i in features:\n",
    "    gini_col[i] = gini_index(i)\n",
    "    print(f'{i}: {gini_col[i]:.5f}')"
   ]
  }
 ],
 "metadata": {
  "kernelspec": {
   "display_name": "Python 3 (ipykernel)",
   "language": "python",
   "name": "python3"
  },
  "language_info": {
   "codemirror_mode": {
    "name": "ipython",
    "version": 3
   },
   "file_extension": ".py",
   "mimetype": "text/x-python",
   "name": "python",
   "nbconvert_exporter": "python",
   "pygments_lexer": "ipython3",
   "version": "3.9.12"
  }
 },
 "nbformat": 4,
 "nbformat_minor": 5
}
